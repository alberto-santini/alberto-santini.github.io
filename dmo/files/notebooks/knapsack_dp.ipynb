{
 "cells": [
  {
   "cell_type": "code",
   "execution_count": 1,
   "metadata": {},
   "outputs": [],
   "source": [
    "from functools import cache\n",
    "from dataclasses import dataclass\n",
    "from typing import Iterable, List\n",
    "import numpy as np"
   ]
  },
  {
   "cell_type": "code",
   "execution_count": 2,
   "metadata": {},
   "outputs": [],
   "source": [
    "@dataclass\n",
    "class Knapsack:\n",
    "    weight: Iterable[int]\n",
    "    profit: Iterable[int]\n",
    "    capacity: int\n",
    "\n",
    "    def __len__(self):\n",
    "        assert len(self.weight) == len(self.profit)\n",
    "        return len(self.weight)\n",
    "\n",
    "\n",
    "class KnapsackSolution:\n",
    "    profit: int\n",
    "    items: List[int]\n",
    "\n",
    "    def __init__(self, profit: int, items: Iterable[int]):\n",
    "        self.profit = profit\n",
    "        self.items = list(items)\n",
    "\n",
    "    def __repr__(self) -> str:\n",
    "        return \"Items: [\" + \",\".join(map(str, self.items)) + f\"] - Profit: {self.profit}\""
   ]
  },
  {
   "cell_type": "code",
   "execution_count": 3,
   "metadata": {},
   "outputs": [],
   "source": [
    "def dynamic_programming(kp: Knapsack) -> KnapsackSolution:\n",
    "    @cache\n",
    "    def z(m, q):\n",
    "        if q < 0:\n",
    "            return -np.inf\n",
    "        if m < 0:\n",
    "            return 0\n",
    "        \n",
    "        return max(\n",
    "            z(m - 1, q),\n",
    "            kp.profit[m] + z(m - 1, q - kp.weight[m])\n",
    "        )\n",
    "    \n",
    "    def x(m, q):\n",
    "        if m >= 0 and q >= 0:\n",
    "            if z(m - 1, q) > kp.profit[m] + z(m - 1, q - kp.weight[m]):\n",
    "                yield from [*x(m - 1, q)]\n",
    "            else:\n",
    "                yield from [*x(m - 1, q - kp.weight[m]), m]\n",
    "\n",
    "    return KnapsackSolution(\n",
    "        profit=z(len(kp) - 1, kp.capacity),\n",
    "        items=x(len(kp) - 1, kp.capacity)\n",
    "    )"
   ]
  },
  {
   "cell_type": "code",
   "execution_count": 4,
   "metadata": {},
   "outputs": [],
   "source": [
    "kp = Knapsack(weight=(2,2,2,4,4,6), profit=(5,4,3,5,4,5), capacity=12)\n",
    "sol = dynamic_programming(kp=kp)"
   ]
  },
  {
   "cell_type": "code",
   "execution_count": 5,
   "metadata": {},
   "outputs": [
    {
     "data": {
      "text/plain": [
       "Items: [0,1,3,4] - Profit: 18"
      ]
     },
     "execution_count": 5,
     "metadata": {},
     "output_type": "execute_result"
    }
   ],
   "source": [
    "sol"
   ]
  }
 ],
 "metadata": {
  "kernelspec": {
   "display_name": "or-tutorials",
   "language": "python",
   "name": "python3"
  },
  "language_info": {
   "codemirror_mode": {
    "name": "ipython",
    "version": 3
   },
   "file_extension": ".py",
   "mimetype": "text/x-python",
   "name": "python",
   "nbconvert_exporter": "python",
   "pygments_lexer": "ipython3",
   "version": "3.11.9"
  }
 },
 "nbformat": 4,
 "nbformat_minor": 2
}
