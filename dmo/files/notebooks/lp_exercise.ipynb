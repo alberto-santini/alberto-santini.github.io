{
 "cells": [
  {
   "cell_type": "code",
   "execution_count": 30,
   "metadata": {},
   "outputs": [],
   "source": [
    "from gurobipy import Model, GurobiError, GRB"
   ]
  },
  {
   "cell_type": "code",
   "execution_count": 5,
   "metadata": {},
   "outputs": [],
   "source": [
    "# Make sure that Gurobi works and that you\n",
    "# have a valid license.\n",
    "\n",
    "try:\n",
    "    Model()\n",
    "except GurobiError as e:\n",
    "    print(e.message)"
   ]
  },
  {
   "cell_type": "markdown",
   "metadata": {},
   "source": [
    "Exercise from the lecture notes."
   ]
  },
  {
   "cell_type": "code",
   "execution_count": 5,
   "metadata": {},
   "outputs": [],
   "source": [
    "from enum import Enum"
   ]
  },
  {
   "cell_type": "code",
   "execution_count": 6,
   "metadata": {},
   "outputs": [],
   "source": [
    "class Petrol(Enum):\n",
    "    A = 'RawA'\n",
    "    B = 'RawB'\n",
    "    C = 'RawC'\n",
    "    D = 'RawD'\n",
    "\n",
    "class Fuel(Enum):\n",
    "    A = 'FuelA'\n",
    "    B = 'FuelB'\n",
    "\n",
    "pn = {\n",
    "    Petrol.A: 107,\n",
    "    Petrol.B: 93,\n",
    "    Petrol.C: 87,\n",
    "    Petrol.D: 108\n",
    "}\n",
    "\n",
    "rvp = {\n",
    "    Petrol.A: 5,\n",
    "    Petrol.B: 8,\n",
    "    Petrol.C: 4,\n",
    "    Petrol.D: 21\n",
    "}\n",
    "\n",
    "prod = {\n",
    "    Petrol.A: 3814,\n",
    "    Petrol.B: 2666,\n",
    "    Petrol.C: 4016,\n",
    "    Petrol.D: 1300\n",
    "}\n",
    "\n",
    "petrol_profit = 4.83\n",
    "\n",
    "fuel_profit = {\n",
    "    Fuel.A: 6.45,\n",
    "    Fuel.B: 5.91\n",
    "}\n",
    "\n",
    "min_pn = {\n",
    "    Fuel.A: 100,\n",
    "    Fuel.B: 91\n",
    "}\n",
    "\n",
    "max_rvp = {\n",
    "    Fuel.A: 7,\n",
    "    Fuel.B: 7\n",
    "}"
   ]
  },
  {
   "cell_type": "code",
   "execution_count": 9,
   "metadata": {},
   "outputs": [
    {
     "name": "stdout",
     "output_type": "stream",
     "text": [
      "Set parameter WLSAccessID\n",
      "Set parameter WLSSecret\n",
      "Set parameter LicenseID to value 2555908\n",
      "Academic license 2555908 - for non-commercial use only - registered to al___@upf.edu\n"
     ]
    }
   ],
   "source": [
    "m = Model()"
   ]
  },
  {
   "cell_type": "code",
   "execution_count": 25,
   "metadata": {},
   "outputs": [],
   "source": [
    "x = m.addVars(Petrol, Fuel, name='x')"
   ]
  },
  {
   "cell_type": "code",
   "execution_count": 31,
   "metadata": {},
   "outputs": [],
   "source": [
    "m.setObjective(\n",
    "    sum(\n",
    "        fuel_profit[j] *\n",
    "        sum(\n",
    "            x[i,j]\n",
    "            for i in Petrol)\n",
    "        for j in Fuel) +\n",
    "    petrol_profit *\n",
    "    sum(\n",
    "        prod[i] -\n",
    "        sum(\n",
    "            x[i,j]\n",
    "            for j in Fuel)\n",
    "        for i in Petrol),\n",
    "sense=GRB.MAXIMIZE)"
   ]
  },
  {
   "cell_type": "code",
   "execution_count": null,
   "metadata": {},
   "outputs": [],
   "source": [
    "# m.addConstrs(\n",
    "#     (sum(x[i,j] for j in Fuel) <= prod[i]\n",
    "#     for i in Petrol),\n",
    "# name='respect_production_capacity')"
   ]
  },
  {
   "cell_type": "code",
   "execution_count": 33,
   "metadata": {},
   "outputs": [
    {
     "data": {
      "text/plain": [
       "{<Petrol.A: 'RawA'>: <gurobi.Constr *Awaiting Model Update*>,\n",
       " <Petrol.B: 'RawB'>: <gurobi.Constr *Awaiting Model Update*>,\n",
       " <Petrol.C: 'RawC'>: <gurobi.Constr *Awaiting Model Update*>,\n",
       " <Petrol.D: 'RawD'>: <gurobi.Constr *Awaiting Model Update*>}"
      ]
     },
     "execution_count": 33,
     "metadata": {},
     "output_type": "execute_result"
    }
   ],
   "source": [
    "m.addConstrs(\n",
    "    (x.sum(i,'*') <= prod[i]\n",
    "    for i in Petrol),\n",
    "name='respect_production_capacity')"
   ]
  },
  {
   "cell_type": "code",
   "execution_count": null,
   "metadata": {},
   "outputs": [],
   "source": [
    "# m.addConstrs(\n",
    "#     (sum(pn[i] * x[i,j] for i in Petrol) >=\n",
    "#      min_pn[j] * sum(x[i,j] for i in Petrol)\n",
    "#     for j in Fuel),\n",
    "# name='min_pn_requirements')"
   ]
  },
  {
   "cell_type": "code",
   "execution_count": 35,
   "metadata": {},
   "outputs": [
    {
     "data": {
      "text/plain": [
       "{<Fuel.A: 'FuelA'>: <gurobi.Constr *Awaiting Model Update*>,\n",
       " <Fuel.B: 'FuelB'>: <gurobi.Constr *Awaiting Model Update*>}"
      ]
     },
     "execution_count": 35,
     "metadata": {},
     "output_type": "execute_result"
    }
   ],
   "source": [
    "m.addConstrs(\n",
    "    (sum(pn[i] * x[i,j] for i in Petrol) >=\n",
    "     min_pn[j] * x.sum('*',j)\n",
    "    for j in Fuel),\n",
    "name='min_pn_requirements')"
   ]
  },
  {
   "cell_type": "code",
   "execution_count": 36,
   "metadata": {},
   "outputs": [
    {
     "data": {
      "text/plain": [
       "{<Fuel.A: 'FuelA'>: <gurobi.Constr *Awaiting Model Update*>,\n",
       " <Fuel.B: 'FuelB'>: <gurobi.Constr *Awaiting Model Update*>}"
      ]
     },
     "execution_count": 36,
     "metadata": {},
     "output_type": "execute_result"
    }
   ],
   "source": [
    "m.addConstrs(\n",
    "    (sum(rvp[i] * x[i,j] for i in Petrol) <=\n",
    "     max_rvp[j] * x.sum('*',j)\n",
    "    for j in Fuel),\n",
    "name='max_rvp_requirements')"
   ]
  },
  {
   "cell_type": "code",
   "execution_count": 37,
   "metadata": {},
   "outputs": [
    {
     "name": "stdout",
     "output_type": "stream",
     "text": [
      "Gurobi Optimizer version 10.0.3 build v10.0.3rc0 (linux64)\n",
      "\n",
      "CPU model: Intel(R) Core(TM) i7-8550U CPU @ 1.80GHz, instruction set [SSE2|AVX|AVX2]\n",
      "Thread count: 4 physical cores, 8 logical processors, using up to 8 threads\n",
      "\n",
      "Academic license 2555908 - for non-commercial use only - registered to al___@upf.edu\n",
      "Optimize a model with 8 rows, 16 columns and 24 nonzeros\n",
      "Model fingerprint: 0x7716a408\n",
      "Coefficient statistics:\n",
      "  Matrix range     [1e+00, 2e+01]\n",
      "  Objective range  [1e+00, 2e+00]\n",
      "  Bounds range     [0e+00, 0e+00]\n",
      "  RHS range        [1e+03, 4e+03]\n",
      "Presolve removed 1 rows and 9 columns\n",
      "Presolve time: 0.02s\n",
      "Presolved: 7 rows, 7 columns, 22 nonzeros\n",
      "\n",
      "Iteration    Objective       Primal Inf.    Dual Inf.      Time\n",
      "       0    7.6084200e+04   1.743529e+03   0.000000e+00      0s\n",
      "       5    7.3879380e+04   0.000000e+00   0.000000e+00      0s\n",
      "\n",
      "Solved in 5 iterations and 0.03 seconds (0.00 work units)\n",
      "Optimal objective  7.387938000e+04\n"
     ]
    }
   ],
   "source": [
    "m.optimize()"
   ]
  },
  {
   "cell_type": "code",
   "execution_count": 41,
   "metadata": {},
   "outputs": [
    {
     "name": "stdout",
     "output_type": "stream",
     "text": [
      "=== Fuel A ===\n",
      "Total produced fuel: 7883.0\n",
      "Total revenue from this fuel: 50845.3\n",
      "Composition:\n",
      "\t Using 3754.0 barrels of petrol A\n",
      "\t Using 2666.0 barrels of petrol B\n",
      "\t Using 920.0 barrels of petrol C\n",
      "\t Using 543.0 barrels of petrol D\n",
      "=== Fuel B ===\n",
      "Total produced fuel: 3828.0\n",
      "Total revenue from this fuel: 22623.5\n",
      "Composition:\n",
      "\t Using 60.0 barrels of petrol A\n",
      "\t Using 3096.0 barrels of petrol C\n",
      "\t Using 672.0 barrels of petrol D\n"
     ]
    }
   ],
   "source": [
    "for j in Fuel:\n",
    "    tot = sum(x[i,j].X for i in Petrol)\n",
    "\n",
    "    print(f\"=== Fuel {j.name} ===\")\n",
    "    print(f\"Total produced fuel: {tot:.1f}\")\n",
    "    print(f\"Total revenue from this fuel: {tot*fuel_profit[j]:.1f}\")\n",
    "    print(\"Composition:\")\n",
    "    for i in Petrol:\n",
    "        if (val := x[i,j].X) > 0:\n",
    "            print(f\"\\t Using {val:.1f} barrels of petrol {i.name}\")"
   ]
  },
  {
   "cell_type": "code",
   "execution_count": null,
   "metadata": {},
   "outputs": [],
   "source": []
  }
 ],
 "metadata": {
  "kernelspec": {
   "display_name": "optimisation",
   "language": "python",
   "name": "python3"
  },
  "language_info": {
   "codemirror_mode": {
    "name": "ipython",
    "version": 3
   },
   "file_extension": ".py",
   "mimetype": "text/x-python",
   "name": "python",
   "nbconvert_exporter": "python",
   "pygments_lexer": "ipython3",
   "version": "3.10.12"
  }
 },
 "nbformat": 4,
 "nbformat_minor": 2
}
