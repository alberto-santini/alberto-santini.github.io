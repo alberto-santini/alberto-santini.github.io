{
 "cells": [
  {
   "cell_type": "code",
   "execution_count": 1,
   "metadata": {},
   "outputs": [],
   "source": [
    "from typing import Dict, List, KeysView\n",
    "from dataclasses import dataclass\n",
    "from gurobipy import Model, GRB"
   ]
  },
  {
   "cell_type": "code",
   "execution_count": 2,
   "metadata": {},
   "outputs": [],
   "source": [
    "class InvalidKnapsackError(RuntimeError):\n",
    "    pass\n",
    "\n",
    "class Knapsack:\n",
    "    profit: Dict[int, int]\n",
    "    weight: Dict[int, int]\n",
    "    capacity: int\n",
    "\n",
    "    def __init__(self, profit: Dict[int, int], weight: Dict[int, int], capacity: int):\n",
    "        if set(profit.keys()) != set(weight.keys()):\n",
    "            raise InvalidKnapsackError(\"Profit and weights must have the same keys.\")\n",
    "        \n",
    "        if capacity < 0:\n",
    "            raise InvalidKnapsackError(\"Capaity cannot be negative\")\n",
    "\n",
    "        self.profit = profit\n",
    "        self.weight = weight\n",
    "        self.capacity = capacity\n",
    "\n",
    "    def items(self) -> KeysView:\n",
    "        return self.weight.keys()\n",
    "\n",
    "\n",
    "@dataclass\n",
    "class KnapsackSolution:\n",
    "    profit: int\n",
    "    items: List[int]"
   ]
  },
  {
   "cell_type": "code",
   "execution_count": 3,
   "metadata": {},
   "outputs": [],
   "source": [
    "weight = {j: w for j, w in enumerate((2,2,2,4,4,6))}\n",
    "profit = {j: p for j, p in enumerate((5,4,3,5,4,5))}\n",
    "kp = Knapsack(weight=weight, profit=profit, capacity=12)"
   ]
  },
  {
   "cell_type": "code",
   "execution_count": 4,
   "metadata": {},
   "outputs": [],
   "source": [
    "def solve_mip(kp: Knapsack) -> KnapsackSolution:\n",
    "    m = Model()\n",
    "    x = m.addVars(kp.items(), vtype=GRB.BINARY, obj=kp.profit, name='x')\n",
    "    m.addConstr(\n",
    "        (sum(kp.weight[j] * x[j] for j in kp.items()) <= kp.capacity),\n",
    "        name='capacity')\n",
    "    m.ModelSense = GRB.MAXIMIZE\n",
    "\n",
    "    m.optimize()\n",
    "    \n",
    "    assert m.Status == GRB.OPTIMAL\n",
    "\n",
    "    items = [j for j in kp.items() if x[j].X > 0.5]\n",
    "    profit = sum(kp.profit[j] for j in items)\n",
    "\n",
    "    return KnapsackSolution(profit=profit, items=items)"
   ]
  },
  {
   "cell_type": "code",
   "execution_count": 5,
   "metadata": {},
   "outputs": [
    {
     "name": "stdout",
     "output_type": "stream",
     "text": [
      "Set parameter WLSAccessID\n",
      "Set parameter WLSSecret\n",
      "Set parameter LicenseID to value 2555908\n",
      "Academic license 2555908 - for non-commercial use only - registered to al___@upf.edu\n",
      "Gurobi Optimizer version 10.0.3 build v10.0.3rc0 (linux64)\n",
      "\n",
      "CPU model: Intel(R) Core(TM) i7-8550U CPU @ 1.80GHz, instruction set [SSE2|AVX|AVX2]\n",
      "Thread count: 4 physical cores, 8 logical processors, using up to 8 threads\n",
      "\n",
      "Academic license 2555908 - for non-commercial use only - registered to al___@upf.edu\n",
      "Optimize a model with 1 rows, 6 columns and 6 nonzeros\n",
      "Model fingerprint: 0x70c446c8\n",
      "Variable types: 0 continuous, 6 integer (6 binary)\n",
      "Coefficient statistics:\n",
      "  Matrix range     [2e+00, 6e+00]\n",
      "  Objective range  [3e+00, 5e+00]\n",
      "  Bounds range     [1e+00, 1e+00]\n",
      "  RHS range        [1e+01, 1e+01]\n",
      "Found heuristic solution: objective 17.0000000\n",
      "Presolve removed 1 rows and 6 columns\n",
      "Presolve time: 0.00s\n",
      "Presolve: All rows and columns removed\n",
      "\n",
      "Explored 0 nodes (0 simplex iterations) in 0.06 seconds (0.00 work units)\n",
      "Thread count was 1 (of 8 available processors)\n",
      "\n",
      "Solution count 2: 18 17 \n",
      "\n",
      "Optimal solution found (tolerance 1.00e-04)\n"
     ]
    },
    {
     "name": "stdout",
     "output_type": "stream",
     "text": [
      "Best objective 1.800000000000e+01, best bound 1.800000000000e+01, gap 0.0000%\n"
     ]
    },
    {
     "data": {
      "text/plain": [
       "KnapsackSolution(profit=18, items=[0, 1, 3, 4])"
      ]
     },
     "execution_count": 5,
     "metadata": {},
     "output_type": "execute_result"
    }
   ],
   "source": [
    "solve_mip(kp=kp)"
   ]
  }
 ],
 "metadata": {
  "kernelspec": {
   "display_name": "optimisation",
   "language": "python",
   "name": "python3"
  },
  "language_info": {
   "codemirror_mode": {
    "name": "ipython",
    "version": 3
   },
   "file_extension": ".py",
   "mimetype": "text/x-python",
   "name": "python",
   "nbconvert_exporter": "python",
   "pygments_lexer": "ipython3",
   "version": "3.10.12"
  }
 },
 "nbformat": 4,
 "nbformat_minor": 2
}
